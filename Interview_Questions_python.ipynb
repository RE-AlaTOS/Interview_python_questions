{
 "cells": [
  {
   "cell_type": "markdown",
   "metadata": {},
   "source": [
    "# PYTHON QUESTIONS"
   ]
  },
  {
   "cell_type": "markdown",
   "metadata": {},
   "source": [
    "<hr style=\"border:2px solid gray\">"
   ]
  },
  {
   "cell_type": "markdown",
   "metadata": {},
   "source": [
    "\n",
    "### Question 1.1: Lists and Indices\n",
    "\n",
    "Write a Python program to display the first and last colors from the following list.\n",
    "\n",
    "```\n",
    "color_list = [\"Red\", \"Green\", \"White\", \"Black\"]\n",
    "```"
   ]
  },
  {
   "cell_type": "code",
   "execution_count": null,
   "metadata": {},
   "outputs": [],
   "source": [
    "### Question 1.1 Answer ###\n",
    "\n",
    "color_list = [\"Red\", \"Green\", \"White\", \"Black\"]"
   ]
  },
  {
   "cell_type": "markdown",
   "metadata": {},
   "source": [
    "---\n",
    "###  Question 1.2: Library and User Input\n",
    "\n",
    "Write a Python program that calculates the area of a circle. The radius is input by the user."
   ]
  },
  {
   "cell_type": "code",
   "execution_count": null,
   "metadata": {},
   "outputs": [],
   "source": [
    "### Question 1.2 Answer ###"
   ]
  },
  {
   "cell_type": "markdown",
   "metadata": {},
   "source": [
    "---\n",
    "###  Question 1.3: Loops and Conditionals\n",
    "Write a program to count and display the number of <u>**s**</u> in the following string.\n",
    "\n",
    "> \"seven silly snakes slithered slowly in the sun\"\n"
   ]
  },
  {
   "cell_type": "code",
   "execution_count": null,
   "metadata": {},
   "outputs": [],
   "source": [
    "### Question 1.3 Answer ###\n"
   ]
  },
  {
   "cell_type": "markdown",
   "metadata": {},
   "source": [
    "---\n",
    "###  Question 1.4: Functions\n",
    "\n",
    "Write a Python function that takes the sides of a right-angle triangle and returns the hypotenuse.\n",
    "\n",
    "Hypotenuse formular: $c^{2}=a^{2}+b^{2}$"
   ]
  },
  {
   "cell_type": "code",
   "execution_count": null,
   "metadata": {},
   "outputs": [],
   "source": [
    "### Question 1.4 Answer ###\n"
   ]
  },
  {
   "cell_type": "markdown",
   "metadata": {},
   "source": [
    "---\n",
    "\n",
    "###  Question 1.5: Dictionaries\n",
    "\n",
    "1. Create a dictionary with keys for **name** and **age**.\n",
    "2. Individually display the value for each key.\n",
    "\n",
    "Example:\n",
    "John is 15 years old.\n"
   ]
  },
  {
   "cell_type": "code",
   "execution_count": null,
   "metadata": {},
   "outputs": [],
   "source": [
    "### Question 1.5 Answer ###\n"
   ]
  },
  {
   "cell_type": "markdown",
   "metadata": {},
   "source": [
    "---\n",
    "\n",
    "###  Question 1.6: Classes\n",
    "Write a Python class named `Rectangle`. \\\n",
    "This class should have two attributes: `width` and `height`. \\\n",
    "Show the `width` and `height`from the object.\n",
    "\n",
    "Optional: \\\n",
    "Add two methods: `area()` and `perimeter()` that will return the corresponding values."
   ]
  },
  {
   "cell_type": "code",
   "execution_count": null,
   "metadata": {},
   "outputs": [],
   "source": [
    "### Question 1.6 Answer ###\n"
   ]
  },
  {
   "cell_type": "markdown",
   "metadata": {},
   "source": [
    "<hr style=\"border:2px solid gray\">"
   ]
  },
  {
   "cell_type": "markdown",
   "metadata": {},
   "source": [
    "###  Question 2.1: Factorial\n",
    "\n",
    "Write a Python function that can calculate the factorial of a number.\n",
    "\n",
    "Example: \\\n",
    "n! = 1 x 2 x 3 x.....x (n-1) x (n) "
   ]
  },
  {
   "cell_type": "code",
   "execution_count": null,
   "metadata": {},
   "outputs": [],
   "source": [
    "### Question 2.1 Answer ###\n"
   ]
  },
  {
   "cell_type": "markdown",
   "metadata": {},
   "source": [
    "---\n",
    "###  Question 2.2: FizzBuzz\n",
    "Write a Python program to print the numbers 1 to 99 in ascending order line by line. \\\n",
    "However, if the number is divisible by 3, it should be replaced with \"Fizz\". \\\n",
    "If the number is divisible by 5, it should be replaced with \"Buzz\". \\\n",
    "If the number is divisible by both 3 and 5, it should be replaced with \"FizzBuzz\".\n",
    "\n",
    "For example, the output should look like:\n",
    "\n",
    "```\n",
    "1\n",
    "2\n",
    "Fizz\n",
    "4\n",
    "Buzz\n",
    "Fizz\n",
    "7\n",
    "8\n",
    "Fizz\n",
    "Buzz\n",
    "11\n",
    "Fizz\n",
    "13\n",
    "14\n",
    "FizzBuzz\n",
    "```"
   ]
  },
  {
   "cell_type": "code",
   "execution_count": null,
   "metadata": {},
   "outputs": [],
   "source": [
    "### Question 2.2 Answer ###\n"
   ]
  },
  {
   "cell_type": "markdown",
   "metadata": {},
   "source": [
    "---\n",
    "###  Question 2.3: Star Pyramid\n",
    "\n",
    "Write a Python function that takes a value **n** and then output a pyramid of * with **n** layers.\n",
    "\n",
    "Example:\n",
    "\n",
    "```\n",
    "n = 5\n",
    "pyramid(n)\n",
    "\n",
    "```\n",
    "\n",
    "Output:\n",
    "\n",
    "```\n",
    "    *    \n",
    "   ***   \n",
    "  *****  \n",
    " ******* \n",
    "*********\n",
    "```"
   ]
  },
  {
   "cell_type": "code",
   "execution_count": null,
   "metadata": {},
   "outputs": [],
   "source": [
    "### Question 2.3 Answer ###\n"
   ]
  },
  {
   "cell_type": "code",
   "execution_count": null,
   "metadata": {},
   "outputs": [],
   "source": []
  }
 ],
 "metadata": {
  "interpreter": {
   "hash": "488dde0390183c08fe30498919431ac8802d9f654b8e63c6d7d6ef2d45ec04f0"
  },
  "kernelspec": {
   "display_name": "Python 3",
   "language": "python",
   "name": "python3"
  },
  "language_info": {
   "codemirror_mode": {
    "name": "ipython",
    "version": 3
   },
   "file_extension": ".py",
   "mimetype": "text/x-python",
   "name": "python",
   "nbconvert_exporter": "python",
   "pygments_lexer": "ipython3",
   "version": "3.8.5"
  }
 },
 "nbformat": 4,
 "nbformat_minor": 2
}
